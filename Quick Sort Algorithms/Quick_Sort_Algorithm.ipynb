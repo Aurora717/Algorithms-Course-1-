{
 "cells": [
  {
   "cell_type": "code",
   "execution_count": 270,
   "metadata": {},
   "outputs": [],
   "source": [
    "def Partition(A,l,r):\n",
    "    global c\n",
    "    p = A[l]\n",
    "    i = l+1\n",
    "    for j in range(l+1,r+1):\n",
    "        c=c+1\n",
    "        if A[j] < p:\n",
    "            temp=A[j]\n",
    "            A[j] = A[i]\n",
    "            A[i]=temp\n",
    "            i=i+1\n",
    "            \n",
    "\n",
    "    t=A[l]\n",
    "    A[l] = A[i-1]\n",
    "    A[i-1]=t\n",
    "    return i-1\n",
    "        \n",
    "            "
   ]
  },
  {
   "cell_type": "code",
   "execution_count": 152,
   "metadata": {},
   "outputs": [],
   "source": [
    "def ChoosePivot_First_element(A,l,r):\n",
    "    n = A[l]\n",
    "    i = np.where(A==n)\n",
    "    return i \n",
    "   "
   ]
  },
  {
   "cell_type": "code",
   "execution_count": 147,
   "metadata": {},
   "outputs": [],
   "source": [
    "def ChoosePivot_Last_element(A,l,r):\n",
    "    n = A[r]\n",
    "    i = np.where(A==n)\n",
    "    return i "
   ]
  },
  {
   "cell_type": "code",
   "execution_count": 297,
   "metadata": {},
   "outputs": [],
   "source": [
    "def ChoosePivot_median_of_three(A,l,r):\n",
    "    x = A[l]\n",
    "    y = A[r]\n",
    "    if((r-l-1)%2==0):\n",
    "        m = A[l+(r-l-1)//2]\n",
    "        \n",
    "      \n",
    "    else:\n",
    "        m = A[l+(r-l)//2]\n",
    "        \n",
    "        \n",
    "    if (((y<x) & (m<y)) or ((y>x) & (m>y))):\n",
    "    \n",
    "        med = y \n",
    "    elif (((x<y) & (m<x)) or ((x>y) & (m>x))):\n",
    "    \n",
    "        med = x\n",
    "    else:\n",
    "         med = m\n",
    "    i = np.where(A==med)\n",
    "        \n",
    "\n",
    "    return i "
   ]
  },
  {
   "cell_type": "code",
   "execution_count": 293,
   "metadata": {},
   "outputs": [],
   "source": [
    "def QuickSort(A,l,r):\n",
    "       \n",
    "    \n",
    "    if l < r:\n",
    "        i = ChoosePivot_median_of_three(A,l,r)\n",
    "        temp=A[l]\n",
    "        A[l] = A[i]\n",
    "        A[i]=temp\n",
    "        j= Partition(A,l,r)\n",
    "        QuickSort(A,l,j-1)\n",
    "        QuickSort(A,j+1,r)\n",
    "        \n",
    "        \n",
    "    return A\n",
    "        "
   ]
  },
  {
   "cell_type": "code",
   "execution_count": 298,
   "metadata": {},
   "outputs": [
    {
     "name": "stdout",
     "output_type": "stream",
     "text": [
      "138382\n"
     ]
    }
   ],
   "source": [
    "c=0\n",
    "import numpy as np \n",
    "A= np.loadtxt(\"QuickSort.txt\", comments=\"#\", delimiter=\",\", unpack=False)\n",
    "B = np.array([1,2,3,4])\n",
    "g = QuickSort(A,0,len(A)-1)\n",
    "\n",
    "print(c)"
   ]
  },
  {
   "cell_type": "code",
   "execution_count": 209,
   "metadata": {},
   "outputs": [
    {
     "name": "stdout",
     "output_type": "stream",
     "text": [
      "2\n",
      "3 9 4 4\n"
     ]
    }
   ],
   "source": [
    "162085, 164123 156383"
   ]
  },
  {
   "cell_type": "code",
   "execution_count": 286,
   "metadata": {},
   "outputs": [
    {
     "name": "stdout",
     "output_type": "stream",
     "text": [
      "5 2 8 5\n"
     ]
    }
   ],
   "source": []
  },
  {
   "cell_type": "code",
   "execution_count": null,
   "metadata": {},
   "outputs": [],
   "source": []
  }
 ],
 "metadata": {
  "kernelspec": {
   "display_name": "Python 3",
   "language": "python",
   "name": "python3"
  },
  "language_info": {
   "codemirror_mode": {
    "name": "ipython",
    "version": 3
   },
   "file_extension": ".py",
   "mimetype": "text/x-python",
   "name": "python",
   "nbconvert_exporter": "python",
   "pygments_lexer": "ipython3",
   "version": "3.7.3"
  }
 },
 "nbformat": 4,
 "nbformat_minor": 2
}
