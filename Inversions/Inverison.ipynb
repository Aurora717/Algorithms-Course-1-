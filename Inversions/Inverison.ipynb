{
 "cells": [
  {
   "cell_type": "code",
   "execution_count": 39,
   "metadata": {},
   "outputs": [],
   "source": [
    "  \n",
    "def merge_count(L,R):\n",
    "            c=0\n",
    "            i=0\n",
    "            j=0\n",
    "            D=[]\n",
    "            \n",
    "            \n",
    "                \n",
    "            while i < len(L) and j < len(R):\n",
    "                    if L[i] < R[j]:\n",
    "                        D.append(L[i])\n",
    "                        i=i+1\n",
    "                    else:\n",
    "                        D.append(R[j])\n",
    "                        c=c+len(L)-i\n",
    "                        j=j+1        \n",
    "                    \n",
    "            if i == len(L):\n",
    "                 D.extend(R[j:])\n",
    "            if j == len(R):\n",
    "                 D.extend(L[i:])\n",
    "            \n",
    "                    \n",
    "            \n",
    "            return D,c\n",
    "\n"
   ]
  },
  {
   "cell_type": "code",
   "execution_count": 40,
   "metadata": {},
   "outputs": [],
   "source": [
    "\n",
    "def sort_count (A):\n",
    "    n = len(A)\n",
    "    \n",
    "    \n",
    "    if n==1 : return A,0\n",
    "    else:\n",
    "        n2 = len(A)//2\n",
    "        L,x = sort_count(A[:n2])\n",
    "        R,y =sort_count(A[n2:])\n",
    "        D,z = merge_count(L,R)\n",
    "        \n",
    "    return D, x+y+z\n",
    "            "
   ]
  },
  {
   "cell_type": "code",
   "execution_count": 44,
   "metadata": {},
   "outputs": [
    {
     "name": "stdout",
     "output_type": "stream",
     "text": [
      "2407905288\n"
     ]
    }
   ],
   "source": [
    "import numpy as np \n",
    "\n",
    "lines = np.loadtxt(\"IntegerArray.txt\", comments=\"#\", delimiter=\",\", unpack=False)\n",
    "A = [10,9,8,7,6,5,4,3,2,1]\n",
    "\n",
    "g,c = sort_count(lines)\n",
    "print(c)"
   ]
  },
  {
   "cell_type": "code",
   "execution_count": 96,
   "metadata": {},
   "outputs": [
    {
     "name": "stdout",
     "output_type": "stream",
     "text": [
      "0\n",
      "1\n",
      "2\n",
      "3\n"
     ]
    }
   ],
   "source": []
  },
  {
   "cell_type": "code",
   "execution_count": null,
   "metadata": {},
   "outputs": [],
   "source": []
  }
 ],
 "metadata": {
  "kernelspec": {
   "display_name": "Python 3",
   "language": "python",
   "name": "python3"
  },
  "language_info": {
   "codemirror_mode": {
    "name": "ipython",
    "version": 3
   },
   "file_extension": ".py",
   "mimetype": "text/x-python",
   "name": "python",
   "nbconvert_exporter": "python",
   "pygments_lexer": "ipython3",
   "version": "3.7.3"
  }
 },
 "nbformat": 4,
 "nbformat_minor": 2
}
